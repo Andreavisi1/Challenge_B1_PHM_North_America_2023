{
  "cells": [
    {
      "cell_type": "markdown",
      "metadata": {
        "colab_type": "text",
        "id": "view-in-github"
      },
      "source": [
        "<a href=\"https://colab.research.google.com/github/Andreavisi1/Challenge_B1_PHM_North_America_2023/blob/main/challenge.ipynb\" target=\"_parent\"><img src=\"https://colab.research.google.com/assets/colab-badge.svg\" alt=\"Open In Colab\"/></a>"
      ]
    },
    {
      "cell_type": "code",
      "execution_count": 1,
      "metadata": {
        "colab": {
          "base_uri": "https://localhost:8080/"
        },
        "id": "iBfeKBGnK7nd",
        "outputId": "e9342ab4-747a-43af-99ae-9205d348b454"
      },
      "outputs": [
        {
          "name": "stdout",
          "output_type": "stream",
          "text": [
            "The history saving thread hit an unexpected error (DatabaseError('database disk image is malformed')).History will not be written to the database.\n"
          ]
        },
        {
          "ename": "ModuleNotFoundError",
          "evalue": "No module named 'google'",
          "output_type": "error",
          "traceback": [
            "\u001b[0;31m---------------------------------------------------------------------------\u001b[0m",
            "\u001b[0;31mModuleNotFoundError\u001b[0m                       Traceback (most recent call last)",
            "Cell \u001b[0;32mIn[1], line 1\u001b[0m\n\u001b[0;32m----> 1\u001b[0m \u001b[38;5;28;01mfrom\u001b[39;00m \u001b[38;5;21;01mgoogle\u001b[39;00m\u001b[38;5;21;01m.\u001b[39;00m\u001b[38;5;21;01mcolab\u001b[39;00m \u001b[38;5;28;01mimport\u001b[39;00m drive\n\u001b[1;32m      2\u001b[0m drive\u001b[38;5;241m.\u001b[39mmount(\u001b[38;5;124m'\u001b[39m\u001b[38;5;124m/content/drive\u001b[39m\u001b[38;5;124m'\u001b[39m, force_remount\u001b[38;5;241m=\u001b[39m\u001b[38;5;28;01mTrue\u001b[39;00m)\n",
            "\u001b[0;31mModuleNotFoundError\u001b[0m: No module named 'google'"
          ]
        }
      ],
      "source": [
        "from google.colab import drive\n",
        "drive.mount('/content/drive', force_remount=True)"
      ]
    },
    {
      "cell_type": "code",
      "execution_count": null,
      "metadata": {
        "id": "YranTzBTLKuH"
      },
      "outputs": [],
      "source": [
        "!cp \"/content/drive/MyDrive/ProgettoManutenzionePreventiva/Data_Challenge_PHM2023_test_data.zip\" \"/tmp/\"\n",
        "\n",
        "!unzip -oq \"/tmp/Data_Challenge_PHM2023_test_data.zip\" -d \"/tmp\"\n",
        "\n",
        "!cp \"/content/drive/MyDrive/ProgettoManutenzionePreventiva/Data_Challenge_PHM2023_training_data.zip\" \"/tmp/\"\n",
        "\n",
        "!unzip -oq \"/tmp/Data_Challenge_PHM2023_training_data.zip\" -d \"/tmp\""
      ]
    },
    {
      "cell_type": "code",
      "execution_count": 1,
      "metadata": {
        "id": "Vng5RKMkLZn5"
      },
      "outputs": [
        {
          "name": "stdout",
          "output_type": "stream",
          "text": [
            "The history saving thread hit an unexpected error (DatabaseError('database disk image is malformed')).History will not be written to the database.\n"
          ]
        }
      ],
      "source": [
        "# Converts relative paths to absolute ones\n",
        "ROOT_TRAIN_DATA_FOLDER ='../B - PHM America 2023 - Dataset/Data_Challenge_PHM2023_training_data'\n",
        "ROOT_VAL_DATA_FOLDER = '../B - PHM America 2023 - Dataset/Data_Challenge_PHM2023_test_data'"
      ]
    },
    {
      "cell_type": "code",
      "execution_count": 2,
      "metadata": {
        "id": "sVH76InUQdSt"
      },
      "outputs": [],
      "source": [
        "import pandas as pd\n",
        "import numpy as np\n",
        "import os\n",
        "from pathlib import Path\n",
        "import re"
      ]
    },
    {
      "cell_type": "markdown",
      "metadata": {},
      "source": [
        "## Data Extraction"
      ]
    },
    {
      "cell_type": "code",
      "execution_count": 3,
      "metadata": {
        "id": "t5ldBzCXQGXA"
      },
      "outputs": [],
      "source": [
        "def parse_vibration_dataset(dataset_path):\n",
        "    \"\"\"\n",
        "    Parsa il dataset di vibrazione e crea un DataFrame pandas con una riga per ogni misura.\n",
        "\n",
        "    Args:\n",
        "        dataset_path (str): Percorso alla cartella principale del dataset\n",
        "\n",
        "    Returns:\n",
        "        pd.DataFrame: DataFrame con colonne etichetta, velocità, torque, rep e dati di vibrazione (una riga per campione)\n",
        "    \"\"\"\n",
        "\n",
        "    data_list = []\n",
        "\n",
        "    for root, dirs, files in os.walk(dataset_path):\n",
        "        for file in files:\n",
        "            if file.endswith('.txt'):\n",
        "                folder_name = os.path.basename(root)\n",
        "                if 'Pitting_degradation_level_' in folder_name:\n",
        "                    etichetta_full = folder_name.replace('Pitting_degradation_level_', '')\n",
        "                    if '(' in etichetta_full:\n",
        "                        etichetta = etichetta_full.split('(')[0].strip()\n",
        "                        descrizione = etichetta_full.split('(')[1].replace(')', '').strip()\n",
        "                    else:\n",
        "                        etichetta = etichetta_full.strip()\n",
        "                        descrizione = None\n",
        "                else:\n",
        "                    etichetta = folder_name\n",
        "                    descrizione = None\n",
        "\n",
        "                pattern = r'V(\\d+)_(\\d+)N_(\\d+)\\.txt'\n",
        "                match = re.search(pattern, file)\n",
        "\n",
        "                if match:\n",
        "                    velocita = int(match.group(1))\n",
        "                    torque = int(match.group(2))\n",
        "                    rep = int(match.group(3))\n",
        "\n",
        "                    file_path = os.path.join(root, file)\n",
        "                    try:\n",
        "                        data = np.loadtxt(file_path)\n",
        "\n",
        "                        for row in data:\n",
        "                            record = {\n",
        "                                'etichetta': etichetta,\n",
        "                                'velocita': velocita,\n",
        "                                'torque': torque,\n",
        "                                'rep': rep,\n",
        "                                'horizontal_acceleration': row[0],\n",
        "                                'axial_acceleration': row[1],\n",
        "                                'vertical_acceleration': row[2],\n",
        "                                'tachometer_signal': row[3],\n",
        "                            }\n",
        "                            data_list.append(record)\n",
        "\n",
        "                    except Exception as e:\n",
        "                        print(f\"Errore nel leggere il file {file_path}: {e}\")\n",
        "                        continue\n",
        "                else:\n",
        "                    print(f\"Nome file non riconosciuto: {file}\")\n",
        "\n",
        "    df = pd.DataFrame(data_list)\n",
        "\n",
        "    if not df.empty:\n",
        "        df = df.sort_values(['etichetta', 'velocita', 'torque', 'rep']).reset_index(drop=True)\n",
        "\n",
        "    return df\n",
        "\n",
        "def get_vibration_statistics(df):\n",
        "    \"\"\"\n",
        "    Calcola statistiche sui dati di vibrazione, raggruppando per file.\n",
        "\n",
        "    Args:\n",
        "        df (pd.DataFrame): DataFrame con una riga per ogni misura\n",
        "\n",
        "    Returns:\n",
        "        pd.DataFrame: DataFrame con statistiche per ogni combinazione (etichetta, velocità, torque, rep)\n",
        "    \"\"\"\n",
        "\n",
        "    stats_list = []\n",
        "\n",
        "    grouped = df.groupby(['etichetta', 'descrizione', 'velocita', 'torque', 'rep'])\n",
        "\n",
        "    for (etichetta, descrizione, velocita, torque, rep), group in grouped:\n",
        "        h_acc = group['horizontal_acceleration'].values\n",
        "        a_acc = group['axial_acceleration'].values\n",
        "        v_acc = group['vertical_acceleration'].values\n",
        "\n",
        "        stats = {\n",
        "            'etichetta': etichetta,\n",
        "            'descrizione': descrizione,\n",
        "            'velocita': velocita,\n",
        "            'torque': torque,\n",
        "            'rep': rep,\n",
        "            # Statistiche accelerazione orizzontale\n",
        "            'h_acc_mean': np.mean(h_acc),\n",
        "            'h_acc_std': np.std(h_acc),\n",
        "            'h_acc_rms': np.sqrt(np.mean(h_acc ** 2)),\n",
        "            'h_acc_max': np.max(np.abs(h_acc)),\n",
        "            # Statistiche accelerazione assiale\n",
        "            'a_acc_mean': np.mean(a_acc),\n",
        "            'a_acc_std': np.std(a_acc),\n",
        "            'a_acc_rms': np.sqrt(np.mean(a_acc ** 2)),\n",
        "            'a_acc_max': np.max(np.abs(a_acc)),\n",
        "            # Statistiche accelerazione verticale\n",
        "            'v_acc_mean': np.mean(v_acc),\n",
        "            'v_acc_std': np.std(v_acc),\n",
        "            'v_acc_rms': np.sqrt(np.mean(v_acc ** 2)),\n",
        "            'v_acc_max': np.max(np.abs(v_acc)),\n",
        "            # Info generali\n",
        "            'num_samples': len(group)\n",
        "        }\n",
        "\n",
        "        stats_list.append(stats)\n",
        "\n",
        "    return pd.DataFrame(stats_list)"
      ]
    },
    {
      "cell_type": "code",
      "execution_count": 4,
      "metadata": {
        "id": "-g9lLNFJQVF5"
      },
      "outputs": [
        {
          "ename": "",
          "evalue": "",
          "output_type": "error",
          "traceback": [
            "\u001b[1;31mSi è verificato un arresto anomalo del Kernel durante l'esecuzione del codice nella cella attiva o in una cella precedente. \n",
            "\u001b[1;31mEsaminare il codice nelle celle per identificare una possibile causa dell'errore. \n",
            "\u001b[1;31mPer altre informazioni, fare clic<a href='https://aka.ms/vscodeJupyterKernelCrash'>qui</a>. \n",
            "\u001b[1;31mPer ulteriori dettagli, visualizzare Jupyter <a href='command:jupyter.viewOutput'>log</a>."
          ]
        }
      ],
      "source": [
        "df_vibration = parse_vibration_dataset(ROOT_TRAIN_DATA_FOLDER)\n",
        "\n",
        "if not df_vibration.empty:\n",
        "    print(f\"Dataset caricato con successo!\")\n",
        "    print(f\"Numero di file processati: {len(df_vibration)}\")\n",
        "    print(f\"Etichette uniche: {df_vibration['etichetta'].unique()}\")\n",
        "    print(f\"Descrizioni uniche: {df_vibration['descrizione'].unique()}\")\n",
        "    print(f\"Velocità uniche: {sorted(df_vibration['velocita'].unique())}\")\n",
        "    print(f\"Torque unici: {sorted(df_vibration['torque'].unique())}\")\n",
        "    print(f\"Repetition uniche: {sorted(df_vibration['rep'].unique())}\")\n",
        "\n",
        "    # Mostra le prime righe (senza i dati di vibrazione per leggibilità)\n",
        "    print(\"\\nPrime righe del dataset:\")\n",
        "    display_cols = ['etichetta', 'descrizione', 'velocita', 'torque', 'rep', 'num_samples', 'file_path']\n",
        "    print(df_vibration[display_cols].head())\n",
        "\n",
        "    # Calcola statistiche\n",
        "    print(\"\\nCalcolo delle statistiche...\")\n",
        "    df_stats = get_vibration_statistics(df_vibration)\n",
        "    print(\"\\nStatistiche per i primi file:\")\n",
        "    print(df_stats.head())\n",
        "\n",
        "    # Esempio di accesso ai dati di vibrazione per un file specifico\n",
        "    print(f\"\\nEsempio - forma dei dati del primo file:\")\n",
        "    print(f\"Accelerazione orizzontale: {df_vibration.iloc[0]['horizontal_acceleration'].shape}\")\n",
        "    print(f\"Primi 5 valori accelerazione orizzontale: {df_vibration.iloc[0]['horizontal_acceleration'][:5]}\")\n",
        "\n",
        "else:\n",
        "    print(\"Nessun file trovato o errore nel parsing del dataset\")"
      ]
    },
    {
      "cell_type": "code",
      "execution_count": 7,
      "metadata": {
        "id": "ZUpec53OJJgv"
      },
      "outputs": [
        {
          "data": {
            "application/vnd.microsoft.datawrangler.viewer.v0+json": {
              "columns": [
                {
                  "name": "index",
                  "rawType": "object",
                  "type": "string"
                }
              ],
              "ref": "c73cb2c2-f78f-4613-bfeb-b55a6f2c6e2b",
              "rows": [],
              "shape": {
                "columns": 0,
                "rows": 0
              }
            },
            "text/html": [
              "<div>\n",
              "<style scoped>\n",
              "    .dataframe tbody tr th:only-of-type {\n",
              "        vertical-align: middle;\n",
              "    }\n",
              "\n",
              "    .dataframe tbody tr th {\n",
              "        vertical-align: top;\n",
              "    }\n",
              "\n",
              "    .dataframe thead th {\n",
              "        text-align: right;\n",
              "    }\n",
              "</style>\n",
              "<table border=\"1\" class=\"dataframe\">\n",
              "  <thead>\n",
              "    <tr style=\"text-align: right;\">\n",
              "      <th></th>\n",
              "    </tr>\n",
              "  </thead>\n",
              "  <tbody>\n",
              "  </tbody>\n",
              "</table>\n",
              "</div>"
            ],
            "text/plain": [
              "Empty DataFrame\n",
              "Columns: []\n",
              "Index: []"
            ]
          },
          "execution_count": 7,
          "metadata": {},
          "output_type": "execute_result"
        }
      ],
      "source": [
        "df_vibration.head()"
      ]
    },
    {
      "cell_type": "code",
      "execution_count": null,
      "metadata": {},
      "outputs": [],
      "source": [
        "df.to_pickle(\"vibration_dataset.pkl\")"
      ]
    },
    {
      "cell_type": "markdown",
      "metadata": {},
      "source": [
        "## Normalization"
      ]
    },
    {
      "cell_type": "code",
      "execution_count": null,
      "metadata": {},
      "outputs": [],
      "source": [
        "def preprocess_signal(signal, fs=20480):\n",
        "    signal = signal - np.mean(signal)\n",
        "    from scipy.signal import butter, filtfilt\n",
        "    low_freq = 10  # Hz\n",
        "    high_freq = fs/2 * 0.9\n",
        "    b, a = butter(4, [low_freq, high_freq], btype='band', fs=fs)\n",
        "    signal_filtered = filtfilt(b, a, signal)\n",
        "    return signal_filtered\n",
        "\n",
        "def preprocess_dataframe(df, fs=20480):\n",
        "    for col in ['horizontal_acceleration', 'axial_acceleration', 'vertical_acceleration']:\n",
        "        print(f\"Preprocessing {col}...\")\n",
        "        df[col] = df[col].apply(lambda x: preprocess_signal(x, fs=fs))\n",
        "    return df\n"
      ]
    },
    {
      "cell_type": "markdown",
      "metadata": {},
      "source": [
        "## Correlation"
      ]
    },
    {
      "cell_type": "code",
      "execution_count": null,
      "metadata": {},
      "outputs": [],
      "source": [
        "# Creazione della heatmap\n",
        "plt.figure(figsize=(20, 15))\n",
        "ax = sns.heatmap(df.drop(['weight_status'], axis=1).corr(), cmap=\"Blues\", annot=True, fmt=\".2f\", annot_kws={\"size\": 14})\n",
        "\n",
        "# Aumenta la dimensione dei label degli assi\n",
        "ax.set_xticklabels(ax.get_xticklabels(), fontsize=16, rotation=45, ha='right')  # Rotazione per leggibilità\n",
        "ax.set_yticklabels(ax.get_yticklabels(), fontsize=16)\n",
        "\n",
        "plt.show()"
      ]
    }
  ],
  "metadata": {
    "colab": {
      "include_colab_link": true,
      "provenance": []
    },
    "kernelspec": {
      "display_name": "Python 3",
      "language": "python",
      "name": "python3"
    },
    "language_info": {
      "codemirror_mode": {
        "name": "ipython",
        "version": 3
      },
      "file_extension": ".py",
      "mimetype": "text/x-python",
      "name": "python",
      "nbconvert_exporter": "python",
      "pygments_lexer": "ipython3",
      "version": "3.11.13"
    }
  },
  "nbformat": 4,
  "nbformat_minor": 0
}
