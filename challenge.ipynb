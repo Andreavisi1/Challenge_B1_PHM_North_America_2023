{
  "nbformat": 4,
  "nbformat_minor": 0,
  "metadata": {
    "colab": {
      "provenance": [],
      "include_colab_link": true
    },
    "kernelspec": {
      "name": "python3",
      "display_name": "Python 3"
    },
    "language_info": {
      "name": "python"
    }
  },
  "cells": [
    {
      "cell_type": "markdown",
      "metadata": {
        "id": "view-in-github",
        "colab_type": "text"
      },
      "source": [
        "<a href=\"https://colab.research.google.com/github/Andreavisi1/Challenge_B1_PHM_North_America_2023/blob/main/challenge.ipynb\" target=\"_parent\"><img src=\"https://colab.research.google.com/assets/colab-badge.svg\" alt=\"Open In Colab\"/></a>"
      ]
    },
    {
      "cell_type": "code",
      "execution_count": null,
      "metadata": {
        "colab": {
          "base_uri": "https://localhost:8080/"
        },
        "id": "iBfeKBGnK7nd",
        "outputId": "e9342ab4-747a-43af-99ae-9205d348b454"
      },
      "outputs": [
        {
          "output_type": "stream",
          "name": "stdout",
          "text": [
            "Mounted at /content/drive\n"
          ]
        }
      ],
      "source": [
        "from google.colab import drive\n",
        "drive.mount('/content/drive', force_remount=True)"
      ]
    },
    {
      "cell_type": "code",
      "source": [
        "!cp \"/content/drive/MyDrive/ProgettoManutenzionePreventiva/Data_Challenge_PHM2023_test_data.zip\" \"/tmp/\"\n",
        "\n",
        "!unzip -oq \"/tmp/Data_Challenge_PHM2023_test_data.zip\" -d \"/tmp\"\n",
        "\n",
        "!cp \"/content/drive/MyDrive/ProgettoManutenzionePreventiva/Data_Challenge_PHM2023_training_data.zip\" \"/tmp/\"\n",
        "\n",
        "!unzip -oq \"/tmp/Data_Challenge_PHM2023_training_data.zip\" -d \"/tmp\""
      ],
      "metadata": {
        "id": "YranTzBTLKuH"
      },
      "execution_count": null,
      "outputs": []
    },
    {
      "cell_type": "code",
      "source": [
        "# Converts relative paths to absolute ones\n",
        "ROOT_TRAIN_DATA_FOLDER ='/tmp/Data_Challenge_PHM2023_training_data'\n",
        "ROOT_VAL_DATA_FOLDER = '/tmp/Data_Challenge_PHM2023_test_data'"
      ],
      "metadata": {
        "id": "Vng5RKMkLZn5"
      },
      "execution_count": null,
      "outputs": []
    },
    {
      "cell_type": "code",
      "source": [
        "import pandas as pd\n",
        "import numpy as np\n",
        "import os\n",
        "from pathlib import Path\n",
        "import re"
      ],
      "metadata": {
        "id": "sVH76InUQdSt"
      },
      "execution_count": null,
      "outputs": []
    },
    {
      "cell_type": "code",
      "source": [
        "def parse_vibration_dataset(dataset_path):\n",
        "    \"\"\"\n",
        "    Parsa il dataset di vibrazione e crea un DataFrame pandas con una riga per ogni misura.\n",
        "\n",
        "    Args:\n",
        "        dataset_path (str): Percorso alla cartella principale del dataset\n",
        "\n",
        "    Returns:\n",
        "        pd.DataFrame: DataFrame con colonne etichetta, velocità, torque, rep e dati di vibrazione (una riga per campione)\n",
        "    \"\"\"\n",
        "\n",
        "    data_list = []\n",
        "\n",
        "    for root, dirs, files in os.walk(dataset_path):\n",
        "        for file in files:\n",
        "            if file.endswith('.txt'):\n",
        "                folder_name = os.path.basename(root)\n",
        "                if 'Pitting_degradation_level_' in folder_name:\n",
        "                    etichetta_full = folder_name.replace('Pitting_degradation_level_', '')\n",
        "                    if '(' in etichetta_full:\n",
        "                        etichetta = etichetta_full.split('(')[0].strip()\n",
        "                        descrizione = etichetta_full.split('(')[1].replace(')', '').strip()\n",
        "                    else:\n",
        "                        etichetta = etichetta_full.strip()\n",
        "                        descrizione = None\n",
        "                else:\n",
        "                    etichetta = folder_name\n",
        "                    descrizione = None\n",
        "\n",
        "                pattern = r'V(\\d+)_(\\d+)N_(\\d+)\\.txt'\n",
        "                match = re.search(pattern, file)\n",
        "\n",
        "                if match:\n",
        "                    velocita = int(match.group(1))\n",
        "                    torque = int(match.group(2))\n",
        "                    rep = int(match.group(3))\n",
        "\n",
        "                    file_path = os.path.join(root, file)\n",
        "                    try:\n",
        "                        data = np.loadtxt(file_path)\n",
        "\n",
        "                        for row in data:\n",
        "                            record = {\n",
        "                                'etichetta': etichetta,\n",
        "                                'velocita': velocita,\n",
        "                                'torque': torque,\n",
        "                                'rep': rep,\n",
        "                                'horizontal_acceleration': row[0],\n",
        "                                'axial_acceleration': row[1],\n",
        "                                'vertical_acceleration': row[2],\n",
        "                                'tachometer_signal': row[3],\n",
        "                            }\n",
        "                            data_list.append(record)\n",
        "\n",
        "                    except Exception as e:\n",
        "                        print(f\"Errore nel leggere il file {file_path}: {e}\")\n",
        "                        continue\n",
        "                else:\n",
        "                    print(f\"Nome file non riconosciuto: {file}\")\n",
        "\n",
        "    df = pd.DataFrame(data_list)\n",
        "\n",
        "    if not df.empty:\n",
        "        df = df.sort_values(['etichetta', 'velocita', 'torque', 'rep']).reset_index(drop=True)\n",
        "\n",
        "    return df\n",
        "\n",
        "def get_vibration_statistics(df):\n",
        "    \"\"\"\n",
        "    Calcola statistiche sui dati di vibrazione, raggruppando per file.\n",
        "\n",
        "    Args:\n",
        "        df (pd.DataFrame): DataFrame con una riga per ogni misura\n",
        "\n",
        "    Returns:\n",
        "        pd.DataFrame: DataFrame con statistiche per ogni combinazione (etichetta, velocità, torque, rep)\n",
        "    \"\"\"\n",
        "\n",
        "    stats_list = []\n",
        "\n",
        "    grouped = df.groupby(['etichetta', 'descrizione', 'velocita', 'torque', 'rep'])\n",
        "\n",
        "    for (etichetta, descrizione, velocita, torque, rep), group in grouped:\n",
        "        h_acc = group['horizontal_acceleration'].values\n",
        "        a_acc = group['axial_acceleration'].values\n",
        "        v_acc = group['vertical_acceleration'].values\n",
        "\n",
        "        stats = {\n",
        "            'etichetta': etichetta,\n",
        "            'descrizione': descrizione,\n",
        "            'velocita': velocita,\n",
        "            'torque': torque,\n",
        "            'rep': rep,\n",
        "            # Statistiche accelerazione orizzontale\n",
        "            'h_acc_mean': np.mean(h_acc),\n",
        "            'h_acc_std': np.std(h_acc),\n",
        "            'h_acc_rms': np.sqrt(np.mean(h_acc ** 2)),\n",
        "            'h_acc_max': np.max(np.abs(h_acc)),\n",
        "            # Statistiche accelerazione assiale\n",
        "            'a_acc_mean': np.mean(a_acc),\n",
        "            'a_acc_std': np.std(a_acc),\n",
        "            'a_acc_rms': np.sqrt(np.mean(a_acc ** 2)),\n",
        "            'a_acc_max': np.max(np.abs(a_acc)),\n",
        "            # Statistiche accelerazione verticale\n",
        "            'v_acc_mean': np.mean(v_acc),\n",
        "            'v_acc_std': np.std(v_acc),\n",
        "            'v_acc_rms': np.sqrt(np.mean(v_acc ** 2)),\n",
        "            'v_acc_max': np.max(np.abs(v_acc)),\n",
        "            # Info generali\n",
        "            'num_samples': len(group)\n",
        "        }\n",
        "\n",
        "        stats_list.append(stats)\n",
        "\n",
        "    return pd.DataFrame(stats_list)\n",
        "\n"
      ],
      "metadata": {
        "id": "t5ldBzCXQGXA"
      },
      "execution_count": null,
      "outputs": []
    },
    {
      "cell_type": "code",
      "source": [
        "df_vibration = parse_vibration_dataset(ROOT_TRAIN_DATA_FOLDER)\n",
        "\n",
        "if not df_vibration.empty:\n",
        "    print(f\"Dataset caricato con successo!\")\n",
        "    print(f\"Numero di file processati: {len(df_vibration)}\")\n",
        "    print(f\"Etichette uniche: {df_vibration['etichetta'].unique()}\")\n",
        "    print(f\"Descrizioni uniche: {df_vibration['descrizione'].unique()}\")\n",
        "    print(f\"Velocità uniche: {sorted(df_vibration['velocita'].unique())}\")\n",
        "    print(f\"Torque unici: {sorted(df_vibration['torque'].unique())}\")\n",
        "    print(f\"Repetition uniche: {sorted(df_vibration['rep'].unique())}\")\n",
        "\n",
        "    # Mostra le prime righe (senza i dati di vibrazione per leggibilità)\n",
        "    print(\"\\nPrime righe del dataset:\")\n",
        "    display_cols = ['etichetta', 'descrizione', 'velocita', 'torque', 'rep', 'num_samples', 'file_path']\n",
        "    print(df_vibration[display_cols].head())\n",
        "\n",
        "    # Calcola statistiche\n",
        "    print(\"\\nCalcolo delle statistiche...\")\n",
        "    df_stats = get_vibration_statistics(df_vibration)\n",
        "    print(\"\\nStatistiche per i primi file:\")\n",
        "    print(df_stats.head())\n",
        "\n",
        "    # Esempio di accesso ai dati di vibrazione per un file specifico\n",
        "    print(f\"\\nEsempio - forma dei dati del primo file:\")\n",
        "    print(f\"Accelerazione orizzontale: {df_vibration.iloc[0]['horizontal_acceleration'].shape}\")\n",
        "    print(f\"Primi 5 valori accelerazione orizzontale: {df_vibration.iloc[0]['horizontal_acceleration'][:5]}\")\n",
        "\n",
        "else:\n",
        "    print(\"Nessun file trovato o errore nel parsing del dataset\")"
      ],
      "metadata": {
        "id": "-g9lLNFJQVF5"
      },
      "execution_count": null,
      "outputs": []
    },
    {
      "cell_type": "code",
      "source": [
        "df_vibration.head()"
      ],
      "metadata": {
        "id": "ZUpec53OJJgv"
      },
      "execution_count": null,
      "outputs": []
    }
  ]
}